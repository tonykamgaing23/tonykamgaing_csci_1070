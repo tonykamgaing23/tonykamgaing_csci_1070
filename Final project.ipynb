{
 "cells": [
  {
   "cell_type": "markdown",
   "id": "180bb82f-cb64-4baa-b96c-0ae6805ffebb",
   "metadata": {},
   "source": [
    "#1.I will be working by myself and I will work on this at least two to three times a week."
   ]
  },
  {
   "cell_type": "code",
   "execution_count": null,
   "id": "44af652d-d5bc-4528-b39e-a94598ba7393",
   "metadata": {},
   "outputs": [],
   "source": [
    "2.I am going to use the heart failure prediction dataset"
   ]
  },
  {
   "cell_type": "code",
   "execution_count": null,
   "id": "b0501259-4498-4fe9-bb2d-57d3023aca7f",
   "metadata": {},
   "outputs": [],
   "source": [
    "3.Null: For the Heart disease failure dataset the age does not tell you if your most likely to have heart failure.\n",
    "For the Heart disease failure dataset the older you are the more likely to have heart failure \n",
    "Alternative: "
   ]
  },
  {
   "cell_type": "code",
   "execution_count": null,
   "id": "84bb56ea-5cf5-48cc-a339-baf2358fd6fe",
   "metadata": {},
   "outputs": [],
   "source": [
    "4.I plan to apply logostic regression and knn examples"
   ]
  },
  {
   "cell_type": "code",
   "execution_count": null,
   "id": "f1072726-c65c-466d-88ed-8402e6d63374",
   "metadata": {},
   "outputs": [],
   "source": [
    "https://www.kaggle.com/datasets/fedesoriano/heart-failure-prediction"
   ]
  },
  {
   "cell_type": "code",
   "execution_count": null,
   "id": "e9a33c6f-bfaa-4bfd-8c4d-2f2f72a3ad52",
   "metadata": {},
   "outputs": [],
   "source": []
  }
 ],
 "metadata": {
  "kernelspec": {
   "display_name": "Python 3 (ipykernel)",
   "language": "python",
   "name": "python3"
  },
  "language_info": {
   "codemirror_mode": {
    "name": "ipython",
    "version": 3
   },
   "file_extension": ".py",
   "mimetype": "text/x-python",
   "name": "python",
   "nbconvert_exporter": "python",
   "pygments_lexer": "ipython3",
   "version": "3.12.5"
  }
 },
 "nbformat": 4,
 "nbformat_minor": 5
}
